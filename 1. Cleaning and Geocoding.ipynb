{
 "cells": [
  {
   "cell_type": "markdown",
   "metadata": {},
   "source": [
    "# 1. Cleaning and Geocoding\n",
    "\n",
    "**Author**: Elba Gomez Navas \n",
    "\n",
    "Here, I clean, aggregate, and merge the various dataset extractions from our database at the unique 6-digit postal code level. I also extend our dataset by adding geolocation, specifically:\n",
    "\n",
    "*  Latitude and longitude per postal code \n",
    "*  Neighbourhood in which the postal code resides. \n",
    "*  Local Health Area (LHA) in which the postal code resides\n",
    "\n",
    "*Input files (raw files required to run code):* \n",
    "\n",
    "| File Name | Description | Location | \n",
    "|----------|:-------------:|:-------------:|\n",
    "| **MANIFOLD_DOWNLOAD_.csv**|Five manifold files representing five different downloads from polaris | M:\\PH-RPM\\Elba\\Data\\Manifold_Downloads\\ |\n",
    "| **M:\\PH-RPM\\Elba\\Data\\PBI_Data_8-10-2018.xlsx** |Internal data with 2016,2017 donations among other variables  | M:\\PH-RPM\\Elba\\Data\\ |\n",
    "\n",
    "*Resulting files:*\n",
    "\n",
    "| File Name | Description | Location | \n",
    "|----------|:-------------:|:-------------:|\n",
    "| **MANIFOLD_BC_ALL.csv**|contains manifold information + internal data by postal code | M:\\PH-RPM\\\\Elba\\\\Data\\\\MANIFOLD_BC_ALL.csv |\n",
    "| **Geocoded_MANIFOLD_BC_ALL_2.csv** |contains all postal codes with their respective lat/long and neighbourhood |  |\n"
   ]
  },
  {
   "cell_type": "code",
   "execution_count": 1,
   "metadata": {},
   "outputs": [],
   "source": [
    "import numpy as np\n",
    "import pandas as pd\n",
    "from pandas import Series, DataFrame\n",
    "import sqlalchemy as sql\n",
    "import zipfile\n",
    "import urllib as rq\n",
    "import geopandas as gpd #for geomapping analysis\n",
    "import requests #making url requests \n",
    "from io import BytesIO, StringIO\n",
    "import re\n",
    "import utm #for geomapping\n",
    "import json #for geomapping "
   ]
  },
  {
   "cell_type": "markdown",
   "metadata": {},
   "source": [
    "### I. Basic Merging and Cleaning "
   ]
  },
  {
   "cell_type": "code",
   "execution_count": 2,
   "metadata": {
    "scrolled": true
   },
   "outputs": [],
   "source": [
    "#Uploading  Manifold extracts\n",
    "data1 = pd.read_csv(\"M:\\PH-RPM\\Elba\\Data\\Manifold_Downloads\\MANIFOLD_DOWNLOAD_1.csv\")\n",
    "data2 = pd.read_csv(\"M:\\PH-RPM\\Elba\\Data\\Manifold_Downloads\\MANIFOLD_DOWNLOAD_2.csv\")\n",
    "data3 = pd.read_csv(\"M:\\PH-RPM\\Elba\\Data\\Manifold_Downloads\\MANIFOLD_DOWNLOAD_3.csv\")\n",
    "data4 = pd.read_csv(\"M:\\PH-RPM\\Elba\\Data\\Manifold_Downloads\\MANIFOLD_DOWNLOAD_4.csv\")\n",
    "data5 = pd.read_csv(\"M:\\PH-RPM\\Elba\\Data\\Manifold_Downloads\\MANIFOLD_DOWNLOAD_5.csv\")\n",
    "\n",
    "#Renaming postal code to match what's on file\n",
    "data2 = data2.rename(columns={'Postal Code': 'Postal_Code'})\n",
    "data3 = data3.rename(columns={'Postal Code': 'Postal_Code'})\n",
    "data4 = data4.rename(columns={'Postal Code': 'Postal_Code'})\n",
    "data5 = data5.rename(columns={'Postal Code': 'Postal_Code'})\n",
    "\n",
    "#Renaming data5 columns to differentiate from useless columns in other datasets\n",
    "data5.head()\n",
    "data5 = data5.rename(columns={'Postal Code': 'Postal_Code', '35 to 44 years-Count-PC': 'Tot_Priv_HH_Age_35-44',\\\n",
    "                    '45 to 54 years-Count-PC':'Tot_Priv_HH_Age_45-54',\\\n",
    "                    '55 to 64 years-Count-PC':'Tot_Priv_HH_Age_55-64',\\\n",
    "                    '65 to 74 years-Count-PC': 'Tot_Priv_HH_Age_65-74',\\\n",
    "                     'Under 25 years-Count-PC':'Tot_Priv_HH_Age_u_25',\\\n",
    "                     '25 to 34 years-Count-PC': 'Tot_Priv_HH_Age_25-34', \\\n",
    "                    '75 years and over-Count-PC': 'Tot_Priv_HH_Age_75_o'})\n",
    "#MERGING \n",
    "result_key = data1.merge(data2, on='Postal_Code', how='left')\n",
    "result_key_1= result_key.merge(data3, on='Postal_Code', how='left')\n",
    "result_key_2= result_key_1.merge(data4, on='Postal_Code', how='left')\n",
    "result_final= result_key_2.merge(data5, on='Postal_Code', how='left')\n",
    "result_final.to_csv('M:\\PH-RPM\\\\Elba\\\\Data\\\\MANIFOLD_MERGED.csv')"
   ]
  },
  {
   "cell_type": "code",
   "execution_count": 3,
   "metadata": {},
   "outputs": [],
   "source": [
    "#Renaming Household Income Data\n",
    "result_final = result_final.rename(columns={'Household with income $0 - $4,999-Count-PC': 'HH_Inc_1', \\\n",
    "                            'Household with income $5,000 - $9,999-Count-PC': 'HH_Inc_2',\\\n",
    "                            'Household with income $10,000 - $14,999-Count-PC': 'HH_Inc_3' , \\\n",
    "                            'Household with income $15,000 - $19,999-Count-PC': 'HH_Inc_4', \\\n",
    "                            'Household with income $20,000 - $29,999-Count-PC': 'HH_Inc_5',\\\n",
    "                            'Household with income $30,000 - $39,999-Count-PC': 'HH_Inc_6', \\\n",
    "                            'Household with income $40,000 - $49,999-Count-PC': 'HH_Inc_7', \\\n",
    "                            'Household with income $50,000 - $59,999-Count-PC': 'HH_Inc_8', \\\n",
    "                            'Household with income $60,000 - $79,999-Count-PC': 'HH_Inc_9',\\\n",
    "                            'Household with income $80,000 - $99,999-Count-PC': 'HH_Inc_10', \\\n",
    "                            'Household with income $100,000 - $124,999-Count-PC': 'HH_Inc_11',\\\n",
    "                            'Household with income $125,000 - $149,999-Count-PC' : 'HH_Inc_12',\\\n",
    "                            'Household with income $150,000 and over-Count-PC' : 'HH_Inc_13'})"
   ]
  },
  {
   "cell_type": "code",
   "execution_count": 4,
   "metadata": {},
   "outputs": [],
   "source": [
    "#list(result_final) "
   ]
  },
  {
   "cell_type": "code",
   "execution_count": 5,
   "metadata": {},
   "outputs": [],
   "source": [
    "data = result_final[['Postal_Code','Population_Total','Pop_15_plus','Dwellings_Tot','ChildCount',\\\n",
    "'Median_HH_Income','Health_Care_Spending','Financial_Services','Gifts_Money',\\\n",
    "'Charity_Contributions','Retirement_Savings','HH_Inc_1', 'HH_Inc_2', 'HH_Inc_3', \\\n",
    "'HH_Inc_4', 'HH_Inc_5', 'HH_Inc_6', 'HH_Inc_7', 'HH_Inc_8', 'HH_Inc_9', 'HH_Inc_10',\\\n",
    "'HH_Inc_11', 'HH_Inc_12', 'HH_Inc_13', 'Median value of dwellings $', \\\n",
    "'Median monthly shelter costs for owned dwellings ($)',\\\n",
    "'Average family income ($)', 'Owned-Count-PC', 'Rented-Count-PC','Band housing-Count-PC_y',\\\n",
    "'Tot_Priv_HH_Age_35-44','Tot_Priv_HH_Age_45-54', 'Tot_Priv_HH_Age_55-64','Tot_Priv_HH_Age_65-74',\\\n",
    "'Tot_Priv_HH_Age_25-34','Tot_Priv_HH_Age_u_25','Tot_Priv_HH_Age_75_o']]\n",
    "data.to_csv('M:\\PH-RPM\\\\Elba\\\\Data\\\\MANIFOLD_MERGED_CLEANED.csv')"
   ]
  },
  {
   "cell_type": "code",
   "execution_count": 6,
   "metadata": {},
   "outputs": [
    {
     "data": {
      "text/html": [
       "<div>\n",
       "<style scoped>\n",
       "    .dataframe tbody tr th:only-of-type {\n",
       "        vertical-align: middle;\n",
       "    }\n",
       "\n",
       "    .dataframe tbody tr th {\n",
       "        vertical-align: top;\n",
       "    }\n",
       "\n",
       "    .dataframe thead th {\n",
       "        text-align: right;\n",
       "    }\n",
       "</style>\n",
       "<table border=\"1\" class=\"dataframe\">\n",
       "  <thead>\n",
       "    <tr style=\"text-align: right;\">\n",
       "      <th></th>\n",
       "      <th>2017</th>\n",
       "      <th>2016</th>\n",
       "    </tr>\n",
       "    <tr>\n",
       "      <th>Postal_Code</th>\n",
       "      <th></th>\n",
       "      <th></th>\n",
       "    </tr>\n",
       "  </thead>\n",
       "  <tbody>\n",
       "    <tr>\n",
       "      <th>L4J3N8</th>\n",
       "      <td>0.0</td>\n",
       "      <td>250.0</td>\n",
       "    </tr>\n",
       "    <tr>\n",
       "      <th>T9J1L8</th>\n",
       "      <td>0.0</td>\n",
       "      <td>50.0</td>\n",
       "    </tr>\n",
       "    <tr>\n",
       "      <th>V0A1E0</th>\n",
       "      <td>50.0</td>\n",
       "      <td>95.0</td>\n",
       "    </tr>\n",
       "    <tr>\n",
       "      <th>V0A1G0</th>\n",
       "      <td>400.0</td>\n",
       "      <td>100.0</td>\n",
       "    </tr>\n",
       "    <tr>\n",
       "      <th>V0A1H0</th>\n",
       "      <td>3180.0</td>\n",
       "      <td>5430.0</td>\n",
       "    </tr>\n",
       "  </tbody>\n",
       "</table>\n",
       "</div>"
      ],
      "text/plain": [
       "               2017    2016\n",
       "Postal_Code                \n",
       "L4J3N8          0.0   250.0\n",
       "T9J1L8          0.0    50.0\n",
       "V0A1E0         50.0    95.0\n",
       "V0A1G0        400.0   100.0\n",
       "V0A1H0       3180.0  5430.0"
      ]
     },
     "execution_count": 6,
     "metadata": {},
     "output_type": "execute_result"
    }
   ],
   "source": [
    "#Importing Foundation data for 2016-2017 and aggregating by postal code\n",
    "foundation = pd.read_excel(\"M:\\PH-RPM\\Elba\\Data\\PBI_Data_8-10-2018.xlsx\")\n",
    "foundation = foundation.rename(columns={'ConcatPC': 'Postal_Code'})\n",
    "found = foundation[['2017','2016','Postal_Code']]\n",
    "grouped = found.groupby('Postal_Code')\n",
    "foundation_donations = grouped.agg(np.sum)\n",
    "foundation_donations.head()"
   ]
  },
  {
   "cell_type": "code",
   "execution_count": 7,
   "metadata": {},
   "outputs": [],
   "source": [
    "#Merging foundation and manifold data\n",
    "data = data.merge(foundation_donations, on='Postal_Code', how='left')\n",
    "data.tail()\n",
    "data.to_csv('M:\\PH-RPM\\\\Elba\\\\Data\\\\MANIFOLD_BC_ALL.csv')"
   ]
  },
  {
   "cell_type": "code",
   "execution_count": 8,
   "metadata": {},
   "outputs": [
    {
     "name": "stdout",
     "output_type": "stream",
     "text": [
      "<class 'pandas.core.frame.DataFrame'>\n",
      "Int64Index: 95002 entries, 0 to 95001\n",
      "Data columns (total 39 columns):\n",
      "Postal_Code                                             95002 non-null object\n",
      "Population_Total                                        95002 non-null int64\n",
      "Pop_15_plus                                             95002 non-null int64\n",
      "Dwellings_Tot                                           95002 non-null int64\n",
      "ChildCount                                              95002 non-null int64\n",
      "Median_HH_Income                                        95002 non-null int64\n",
      "Health_Care_Spending                                    95002 non-null int64\n",
      "Financial_Services                                      95002 non-null int64\n",
      "Gifts_Money                                             95002 non-null int64\n",
      "Charity_Contributions                                   95002 non-null int64\n",
      "Retirement_Savings                                      95002 non-null int64\n",
      "HH_Inc_1                                                95002 non-null int64\n",
      "HH_Inc_2                                                95002 non-null int64\n",
      "HH_Inc_3                                                95002 non-null int64\n",
      "HH_Inc_4                                                95002 non-null int64\n",
      "HH_Inc_5                                                95002 non-null int64\n",
      "HH_Inc_6                                                95002 non-null int64\n",
      "HH_Inc_7                                                95002 non-null int64\n",
      "HH_Inc_8                                                95002 non-null int64\n",
      "HH_Inc_9                                                95002 non-null int64\n",
      "HH_Inc_10                                               95002 non-null int64\n",
      "HH_Inc_11                                               95002 non-null int64\n",
      "HH_Inc_12                                               95002 non-null int64\n",
      "HH_Inc_13                                               95002 non-null int64\n",
      "Median value of dwellings $                             95002 non-null int64\n",
      "Median monthly shelter costs for owned dwellings ($)    95002 non-null int64\n",
      "Average family income ($)                               95002 non-null int64\n",
      "Owned-Count-PC                                          95002 non-null int64\n",
      "Rented-Count-PC                                         95002 non-null int64\n",
      "Band housing-Count-PC_y                                 95002 non-null int64\n",
      "Tot_Priv_HH_Age_35-44                                   95002 non-null int64\n",
      "Tot_Priv_HH_Age_45-54                                   95002 non-null int64\n",
      "Tot_Priv_HH_Age_55-64                                   95002 non-null int64\n",
      "Tot_Priv_HH_Age_65-74                                   95002 non-null int64\n",
      "Tot_Priv_HH_Age_25-34                                   95002 non-null int64\n",
      "Tot_Priv_HH_Age_u_25                                    95002 non-null int64\n",
      "Tot_Priv_HH_Age_75_o                                    95002 non-null int64\n",
      "2017                                                    45287 non-null float64\n",
      "2016                                                    45287 non-null float64\n",
      "dtypes: float64(2), int64(36), object(1)\n",
      "memory usage: 29.0+ MB\n"
     ]
    }
   ],
   "source": [
    "data.info()"
   ]
  },
  {
   "cell_type": "markdown",
   "metadata": {},
   "source": [
    "###  II. Here, we use Google API key to add lat/long to each postal code "
   ]
  },
  {
   "cell_type": "code",
   "execution_count": null,
   "metadata": {},
   "outputs": [],
   "source": [
    "#https://developers.google.com/maps/documentation/javascript/get-api-key#standard-auth#\n",
    "%matplotlib inline\n",
    "#given a location via string, return lat lng.\n",
    "def gc(location):\n",
    "    \n",
    "    #query the google geocode api for lat lng\n",
    "    data = requests.get(\"https://maps.googleapis.com/maps/api/geocode/json?address=\" + location + \"&key=\" + \"add key number here\").json()\n",
    "    \n",
    "    if len(data['results']) > 0:\n",
    "        \n",
    "        #if there's a result, return the first one.\n",
    "        return [data['results'][0]['geometry']['location']['lat'], data['results'][0]['geometry']['location']['lng']]\n",
    "    \n",
    "    else:\n",
    "        #if no result is found, return an empty list\n",
    "        return [0,0]"
   ]
  },
  {
   "cell_type": "code",
   "execution_count": null,
   "metadata": {},
   "outputs": [],
   "source": [
    "#Iterate over all values in Postal Code column to assign lat long \n",
    "def get_latlon(row):\n",
    "    #obtain the lat/long for a row in assigned column (postal code)\n",
    "    tup = gc(row.iloc[0])\n",
    "    return pd.Series(tup[:2])\n",
    "\n",
    "data[['Lat','Long']] = data[['Postal_Code']].apply(get_latlon , axis=1)\n",
    "data.to_csv('M:\\PH-RPM\\\\Elba\\\\Data\\\\Geocoded_MANIFOLD_BC_ALL_2.csv')"
   ]
  },
  {
   "cell_type": "markdown",
   "metadata": {},
   "source": [
    "###  III. Now, we want to assign a neighbourhood to each postal code. For that we use neighbourhood shapefiles for  all neighbourhoods  per city in BC "
   ]
  },
  {
   "cell_type": "markdown",
   "metadata": {},
   "source": [
    "First, we convert our csv data to a geodataframe:"
   ]
  },
  {
   "cell_type": "code",
   "execution_count": 9,
   "metadata": {},
   "outputs": [],
   "source": [
    "import geopandas\n",
    "import geopandas.tools\n",
    "import utm\n",
    "from shapely.geometry import Point\n",
    "from json import dumps\n",
    "import pandas as pd\n",
    "\n",
    "#Import data (already clean)\n",
    "data= pd.read_csv('M:\\PH-RPM\\\\Elba\\\\Data\\\\Geocoded_MANIFOLD_ALL.csv')\n",
    "\n",
    "#Create the geometry column for the coordinates\n",
    "data[\"geometry\"] = data.apply(lambda row: Point(row['Long'], row['Lat']), axis=1)\n",
    "#data.head()"
   ]
  },
  {
   "cell_type": "code",
   "execution_count": 10,
   "metadata": {},
   "outputs": [
    {
     "data": {
      "text/html": [
       "<div>\n",
       "<style scoped>\n",
       "    .dataframe tbody tr th:only-of-type {\n",
       "        vertical-align: middle;\n",
       "    }\n",
       "\n",
       "    .dataframe tbody tr th {\n",
       "        vertical-align: top;\n",
       "    }\n",
       "\n",
       "    .dataframe thead th {\n",
       "        text-align: right;\n",
       "    }\n",
       "</style>\n",
       "<table border=\"1\" class=\"dataframe\">\n",
       "  <thead>\n",
       "    <tr style=\"text-align: right;\">\n",
       "      <th></th>\n",
       "      <th>Postal_Code</th>\n",
       "      <th>Lat</th>\n",
       "      <th>Long</th>\n",
       "      <th>geometry</th>\n",
       "    </tr>\n",
       "  </thead>\n",
       "  <tbody>\n",
       "    <tr>\n",
       "      <th>0</th>\n",
       "      <td>T9J1L8</td>\n",
       "      <td>56.723233</td>\n",
       "      <td>-111.393454</td>\n",
       "      <td>POINT (-111.3934539 56.7232329)</td>\n",
       "    </tr>\n",
       "    <tr>\n",
       "      <th>1</th>\n",
       "      <td>V6M3B7</td>\n",
       "      <td>49.239210</td>\n",
       "      <td>-123.139666</td>\n",
       "      <td>POINT (-123.1396659 49.2392105)</td>\n",
       "    </tr>\n",
       "    <tr>\n",
       "      <th>2</th>\n",
       "      <td>V6M3B5</td>\n",
       "      <td>49.240633</td>\n",
       "      <td>-123.139662</td>\n",
       "      <td>POINT (-123.1396617 49.24063289999999)</td>\n",
       "    </tr>\n",
       "    <tr>\n",
       "      <th>3</th>\n",
       "      <td>V6M3G1</td>\n",
       "      <td>49.240367</td>\n",
       "      <td>-123.142134</td>\n",
       "      <td>POINT (-123.1421342 49.2403674)</td>\n",
       "    </tr>\n",
       "    <tr>\n",
       "      <th>4</th>\n",
       "      <td>V6M3B3</td>\n",
       "      <td>49.241149</td>\n",
       "      <td>-123.139715</td>\n",
       "      <td>POINT (-123.1397153 49.2411485)</td>\n",
       "    </tr>\n",
       "  </tbody>\n",
       "</table>\n",
       "</div>"
      ],
      "text/plain": [
       "  Postal_Code        Lat        Long                                geometry\n",
       "0      T9J1L8  56.723233 -111.393454         POINT (-111.3934539 56.7232329)\n",
       "1      V6M3B7  49.239210 -123.139666         POINT (-123.1396659 49.2392105)\n",
       "2      V6M3B5  49.240633 -123.139662  POINT (-123.1396617 49.24063289999999)\n",
       "3      V6M3G1  49.240367 -123.142134         POINT (-123.1421342 49.2403674)\n",
       "4      V6M3B3  49.241149 -123.139715         POINT (-123.1397153 49.2411485)"
      ]
     },
     "execution_count": 10,
     "metadata": {},
     "output_type": "execute_result"
    }
   ],
   "source": [
    "#PLACE POSTAL CODES WITHIN NEIGHBOURHOOD (so that we can link the geojson file)\n",
    "#First, we want to convert our shapefile to a geojson file \n",
    "#https://gis.stackexchange.com/questions/190903/assign-a-point-to-polygon-using-pandas-and-shapely\n",
    "import geopandas\n",
    "import geopandas.tools\n",
    "import utm\n",
    "from shapely.geometry import Point\n",
    "from json import dumps\n",
    "\n",
    "#Import data (already clean)\n",
    "data= pd.read_csv('M:\\PH-RPM\\\\Elba\\\\Data\\\\Geocoded_MANIFOLD_ALL.csv')\n",
    "\n",
    "#Create the geometry column for the coordinates\n",
    "data[\"geometry\"] = data.apply(lambda row: Point(row['Long'], row['Lat']), axis=1)\n",
    "\n",
    "#Convert to a GeoDataFrame\n",
    "data = geopandas.GeoDataFrame(data, geometry=\"geometry\")\n",
    "data.crs = {'init': 'epsg:26910'}\n",
    "\n",
    "data[['Postal_Code', 'Lat', 'Long','geometry']].head()"
   ]
  },
  {
   "cell_type": "markdown",
   "metadata": {},
   "source": [
    "Then, we import and inspect the geojson file that has the neighbourhoods"
   ]
  },
  {
   "cell_type": "code",
   "execution_count": 11,
   "metadata": {},
   "outputs": [],
   "source": [
    "# Declare the coordinate system for the places GeoDataFrame\n",
    "# GeoPandas doesn't do any transformations automatically when performing\n",
    "# the spatial join. The layers are already in the same CRS (WGS84) so no\n",
    "# transformation is needed.\n",
    "#http://spatialreference.org/ref/epsg/nad83-bc-albers/\n",
    "#https://stackoverflow.com/questions/42751748/using-python-to-project-lat-lon-geometry-to-utm \n",
    "#https://pypi.org/project/utm/\n",
    "#https://stackoverflow.com/questions/30014684/pandas-apply-utm-function-to-dataframe-columns\n",
    "\n",
    "# Load the neighbourhood polygons\n",
    "neighbourhoods = geopandas.GeoDataFrame.from_file(\"C:\\\\Users\\\\egomez\\\\Desktop\\\\all_bc.geojson\")\n",
    "neighbourhoods.crs = {'init': 'epsg:26910'}\n",
    "\n",
    "# Let's quickly look at the shapefile to make sure it's what we want and to do a quick exploration \n",
    "#Note that (1) this is not reprojected to UTM and (2) this has not been corrected for waterbodies \n",
    "import matplotlib.pyplot as plt\n",
    "fig, ax = plt.subplots(figsize=(8,5))\n",
    "neighbourhoods.plot(ax = ax);"
   ]
  },
  {
   "cell_type": "code",
   "execution_count": 12,
   "metadata": {
    "scrolled": true
   },
   "outputs": [
    {
     "data": {
      "text/html": [
       "<div>\n",
       "<style scoped>\n",
       "    .dataframe tbody tr th:only-of-type {\n",
       "        vertical-align: middle;\n",
       "    }\n",
       "\n",
       "    .dataframe tbody tr th {\n",
       "        vertical-align: top;\n",
       "    }\n",
       "\n",
       "    .dataframe thead th {\n",
       "        text-align: right;\n",
       "    }\n",
       "</style>\n",
       "<table border=\"1\" class=\"dataframe\">\n",
       "  <thead>\n",
       "    <tr style=\"text-align: right;\">\n",
       "      <th></th>\n",
       "      <th>Postal_Code</th>\n",
       "      <th>Lat</th>\n",
       "      <th>Long</th>\n",
       "      <th>geometry</th>\n",
       "      <th>N_NAME</th>\n",
       "      <th>geometry</th>\n",
       "    </tr>\n",
       "  </thead>\n",
       "  <tbody>\n",
       "    <tr>\n",
       "      <th>1</th>\n",
       "      <td>V6M3B7</td>\n",
       "      <td>49.239210</td>\n",
       "      <td>-123.139666</td>\n",
       "      <td>POINT (-123.1396659 49.2392105)</td>\n",
       "      <td>Shaughnessy</td>\n",
       "      <td>POINT (-123.1396659 49.2392105)</td>\n",
       "    </tr>\n",
       "    <tr>\n",
       "      <th>2</th>\n",
       "      <td>V6M3B5</td>\n",
       "      <td>49.240633</td>\n",
       "      <td>-123.139662</td>\n",
       "      <td>POINT (-123.1396617 49.24063289999999)</td>\n",
       "      <td>Shaughnessy</td>\n",
       "      <td>POINT (-123.1396617 49.24063289999999)</td>\n",
       "    </tr>\n",
       "    <tr>\n",
       "      <th>3</th>\n",
       "      <td>V6M3G1</td>\n",
       "      <td>49.240367</td>\n",
       "      <td>-123.142134</td>\n",
       "      <td>POINT (-123.1421342 49.2403674)</td>\n",
       "      <td>Shaughnessy</td>\n",
       "      <td>POINT (-123.1421342 49.2403674)</td>\n",
       "    </tr>\n",
       "    <tr>\n",
       "      <th>4</th>\n",
       "      <td>V6M3B3</td>\n",
       "      <td>49.241149</td>\n",
       "      <td>-123.139715</td>\n",
       "      <td>POINT (-123.1397153 49.2411485)</td>\n",
       "      <td>Shaughnessy</td>\n",
       "      <td>POINT (-123.1397153 49.2411485)</td>\n",
       "    </tr>\n",
       "    <tr>\n",
       "      <th>5</th>\n",
       "      <td>V6M3B9</td>\n",
       "      <td>49.238304</td>\n",
       "      <td>-123.139723</td>\n",
       "      <td>POINT (-123.1397234 49.2383039)</td>\n",
       "      <td>Shaughnessy</td>\n",
       "      <td>POINT (-123.1397234 49.2383039)</td>\n",
       "    </tr>\n",
       "  </tbody>\n",
       "</table>\n",
       "</div>"
      ],
      "text/plain": [
       "  Postal_Code        Lat        Long                                geometry  \\\n",
       "1      V6M3B7  49.239210 -123.139666         POINT (-123.1396659 49.2392105)   \n",
       "2      V6M3B5  49.240633 -123.139662  POINT (-123.1396617 49.24063289999999)   \n",
       "3      V6M3G1  49.240367 -123.142134         POINT (-123.1421342 49.2403674)   \n",
       "4      V6M3B3  49.241149 -123.139715         POINT (-123.1397153 49.2411485)   \n",
       "5      V6M3B9  49.238304 -123.139723         POINT (-123.1397234 49.2383039)   \n",
       "\n",
       "        N_NAME                                geometry  \n",
       "1  Shaughnessy         POINT (-123.1396659 49.2392105)  \n",
       "2  Shaughnessy  POINT (-123.1396617 49.24063289999999)  \n",
       "3  Shaughnessy         POINT (-123.1421342 49.2403674)  \n",
       "4  Shaughnessy         POINT (-123.1397153 49.2411485)  \n",
       "5  Shaughnessy         POINT (-123.1397234 49.2383039)  "
      ]
     },
     "execution_count": 12,
     "metadata": {},
     "output_type": "execute_result"
    }
   ],
   "source": [
    "#Drop all columns except the neighbourhood name, neighbourhood code, and polygon geometry\n",
    "neighbourhoods = neighbourhoods[[\"N_CODE\",\"N_NAME\", \"geometry\"]]\n",
    "\n",
    "#Perform the spatial join\n",
    "result = geopandas.tools.sjoin(data, neighbourhoods, how=\"inner\", op=\"within\")\n",
    "\n",
    "#show result \n",
    "result[['Postal_Code', 'Lat', 'Long','geometry', \"N_NAME\", \"geometry\"]].head()"
   ]
  },
  {
   "cell_type": "code",
   "execution_count": 13,
   "metadata": {},
   "outputs": [
    {
     "data": {
      "image/png": "[encoded data removed]",
      "text/plain": [
       "<Figure size 432x288 with 1 Axes>"
      ]
     },
     "metadata": {},
     "output_type": "display_data"
    }
   ],
   "source": [
    "#Roughly Removing points outside of BC \n",
    "data_1 = data[(data.Lat >50) & (data.Long <-114)]\n",
    "\n",
    "ax = data_1.plot(color='blue');\n",
    "neighbourhoods.plot(ax=ax, color='green', alpha=0.5);"
   ]
  },
  {
   "cell_type": "code",
   "execution_count": 15,
   "metadata": {},
   "outputs": [],
   "source": [
    "result.to_csv('M:\\PH-RPM\\\\Elba\\\\Data\\\\Geocoded_MANIFOLD_BC_ALL_2.csv')"
   ]
  }
 ],
 "metadata": {
  "kernelspec": {
   "display_name": "Python 3",
   "language": "python",
   "name": "python3"
  },
  "language_info": {
   "codemirror_mode": {
    "name": "ipython",
    "version": 3
   },
   "file_extension": ".py",
   "mimetype": "text/x-python",
   "name": "python",
   "nbconvert_exporter": "python",
   "pygments_lexer": "ipython3",
   "version": "3.6.6"
  }
 },
 "nbformat": 4,
 "nbformat_minor": 2
}
