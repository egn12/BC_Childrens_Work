{
 "cells": [
  {
   "cell_type": "markdown",
   "metadata": {},
   "source": [
    "# Cleaning and Geocoding\n",
    "\n",
    "Here, I clean, aggregate, and merge the various dataset extractions from our database at the unique 6-digit postal code level. I also extend our dataset by adding geolocation, specifically:\n",
    "\n",
    "*  Latitude and longitude per postal code \n",
    "*  Neighbourhood in which the postal code resides. "
   ]
  },
  {
   "cell_type": "code",
   "execution_count": 16,
   "metadata": {
    "collapsed": true
   },
   "outputs": [],
   "source": [
    "import numpy as np\n",
    "import pandas as pd\n",
    "from pandas import Series, DataFrame\n",
    "import sqlalchemy as sql\n",
    "import zipfile\n",
    "import urllib as rq\n",
    "import geopandas as gpd #for geomapping analysis\n",
    "import requests #making url requests \n",
    "from io import BytesIO, StringIO\n",
    "import re\n",
    "import utm #for geomapping\n",
    "import json #for geomapping "
   ]
  },
  {
   "cell_type": "code",
   "execution_count": null,
   "metadata": {
    "collapsed": true
   },
   "outputs": [],
   "source": [
    "#pandas.read_sql(sql, con, index_col=None, coerce_float=True, params=None, parse_dates=None, columns=None, chunksize=None)"
   ]
  },
  {
   "cell_type": "markdown",
   "metadata": {},
   "source": [
    "### 1. Basic Merging and Cleaning "
   ]
  },
  {
   "cell_type": "code",
   "execution_count": 17,
   "metadata": {
    "collapsed": true,
    "scrolled": true
   },
   "outputs": [],
   "source": [
    "#Uploading and Cleaning  \n",
    "\n",
    "data1 = pd.read_csv(\"M:\\PH-RPM\\Elba\\Data\\Manifold_Dowloads\\MANIFOLD_DOWNLOAD_1.csv\")\n",
    "data2 = pd.read_csv(\"M:\\PH-RPM\\Elba\\Data\\Manifold_Dowloads\\MANIFOLD_DOWNLOAD_2.csv\")\n",
    "data3 = pd.read_csv(\"M:\\PH-RPM\\Elba\\Data\\Manifold_Dowloads\\MANIFOLD_DOWNLOAD_3.csv\")\n",
    "data4 = pd.read_csv(\"M:\\PH-RPM\\Elba\\Data\\Manifold_Dowloads\\MANIFOLD_DOWNLOAD_4.csv\")\n",
    "data5 = pd.read_csv(\"M:\\PH-RPM\\Elba\\Data\\Manifold_Dowloads\\MANIFOLD_DOWNLOAD_5.csv\")\n",
    "\n",
    "#Renaming postal code to match what's on file\n",
    "data2 = data2.rename(columns={'Postal Code': 'Postal_Code'})\n",
    "data3 = data3.rename(columns={'Postal Code': 'Postal_Code'})\n",
    "data4 = data4.rename(columns={'Postal Code': 'Postal_Code'})\n",
    "data5 = data5.rename(columns={'Postal Code': 'Postal_Code'})\n",
    "\n",
    "#Renaming data5 columns to differentiate from useless columns in other datasets\n",
    "data5.head()\n",
    "data5 = data5.rename(columns={'Postal Code': 'Postal_Code', '35 to 44 years-Count-PC': 'Tot_Priv_HH_Age_35-44',\\\n",
    "                    '45 to 54 years-Count-PC':'Tot_Priv_HH_Age_45-54',\\\n",
    "                    '55 to 64 years-Count-PC':'Tot_Priv_HH_Age_55-64',\\\n",
    "                    '65 to 74 years-Count-PC': 'Tot_Priv_HH_Age_65-74',\\\n",
    "                     'Under 25 years-Count-PC':'Tot_Priv_HH_Age_u_25',\\\n",
    "                     '25 to 34 years-Count-PC': 'Tot_Priv_HH_Age_25-34', \\\n",
    "                    '75 years and over-Count-PC': 'Tot_Priv_HH_Age_75_o'})\n",
    "#MERGING \n",
    "result_key = data1.merge(data2, on='Postal_Code', how='left')\n",
    "result_key_1= result_key.merge(data3, on='Postal_Code', how='left')\n",
    "result_key_2= result_key_1.merge(data4, on='Postal_Code', how='left')\n",
    "result_final= result_key_2.merge(data5, on='Postal_Code', how='left')\n",
    "result_final.to_csv('M:\\PH-RPM\\\\Elba\\\\Data\\\\MANIFOLD_MERGED.csv')"
   ]
  },
  {
   "cell_type": "code",
   "execution_count": 18,
   "metadata": {
    "collapsed": true
   },
   "outputs": [],
   "source": [
    "#Renaming Household Income Data\n",
    "result_final = result_final.rename(columns={'Household with income $0 - $4,999-Count-PC': 'HH_Inc_1', \\\n",
    "                            'Household with income $5,000 - $9,999-Count-PC': 'HH_Inc_2',\\\n",
    "                                'Household with income $10,000 - $14,999-Count-PC': 'HH_Inc_3' , \\\n",
    "                                'Household with income $15,000 - $19,999-Count-PC': 'HH_Inc_4', \\\n",
    "                            'Household with income $20,000 - $29,999-Count-PC': 'HH_Inc_5',\\\n",
    "                              'Household with income $30,000 - $39,999-Count-PC': 'HH_Inc_6', \\\n",
    "                                'Household with income $40,000 - $49,999-Count-PC': 'HH_Inc_7', \\\n",
    "                            'Household with income $50,000 - $59,999-Count-PC': 'HH_Inc_8', \\\n",
    "                          'Household with income $60,000 - $79,999-Count-PC': 'HH_Inc_9',\\\n",
    "                            'Household with income $80,000 - $99,999-Count-PC': 'HH_Inc_10', \\\n",
    "                           'Household with income $100,000 - $124,999-Count-PC': 'HH_Inc_11',\\\n",
    "                            'Household with income $125,000 - $149,999-Count-PC' : 'HH_Inc_12',\\\n",
    "                           'Household with income $150,000 and over-Count-PC' : 'HH_Inc_13'})"
   ]
  },
  {
   "cell_type": "code",
   "execution_count": 1,
   "metadata": {},
   "outputs": [],
   "source": [
    "#list(result_final) "
   ]
  },
  {
   "cell_type": "code",
   "execution_count": 20,
   "metadata": {
    "collapsed": true
   },
   "outputs": [],
   "source": [
    "data = result_final[['Postal_Code','Population_Total','Pop_15_plus','Dwellings_Tot','ChildCount',\\\n",
    "'Median_HH_Income','Health_Care_Spending','Financial_Services','Gifts_Money',\\\n",
    "'Charity_Contributions','Retirement_Savings','HH_Inc_1', 'HH_Inc_2', 'HH_Inc_3', \\\n",
    "'HH_Inc_4', 'HH_Inc_5', 'HH_Inc_6', 'HH_Inc_7', 'HH_Inc_8', 'HH_Inc_9', 'HH_Inc_10',\\\n",
    "'HH_Inc_11', 'HH_Inc_12', 'HH_Inc_13', 'Median value of dwellings $', \\\n",
    "'Median monthly shelter costs for owned dwellings ($)',\\\n",
    "'Average family income ($)', 'Owned-Count-PC', 'Rented-Count-PC','Band housing-Count-PC_y',\\\n",
    "'Tot_Priv_HH_Age_35-44','Tot_Priv_HH_Age_45-54', 'Tot_Priv_HH_Age_55-64','Tot_Priv_HH_Age_65-74',\\\n",
    "'Tot_Priv_HH_Age_25-34','Tot_Priv_HH_Age_u_25','Tot_Priv_HH_Age_75_o']]\n",
    "data.to_csv('M:\\PH-RPM\\\\Elba\\\\Data\\\\MANIFOLD_MERGED_CLEANED.csv')"
   ]
  },
  {
   "cell_type": "code",
   "execution_count": null,
   "metadata": {
    "collapsed": true
   },
   "outputs": [],
   "source": [
    "# Importing Foundation data for 2016-2017 and aggregating by postal code\n",
    "foundation = pd.read_excel(\"M:\\PH-RPM\\Elba\\Data\\PBI_Data_8-10-2018.xlsx\")\n",
    "foundation = foundation.rename(columns={'ConcatPC': 'Postal_Code'})\n",
    "found = foundation[['2017','2016','Postal_Code']]\n",
    "grouped = found.groupby('Postal_Code')\n",
    "foundation_donations = grouped.agg(np.sum)"
   ]
  },
  {
   "cell_type": "code",
   "execution_count": 61,
   "metadata": {
    "collapsed": true
   },
   "outputs": [],
   "source": [
    "#Merging foundation and manifold data\n",
    "data = data.merge(foundation_donations, on='Postal_Code', how='left')\n",
    "data.tail()\n",
    "data.to_csv('M:\\PH-RPM\\\\Elba\\\\Data\\\\MANIFOLD_BC_ALL.csv')"
   ]
  },
  {
   "cell_type": "code",
   "execution_count": 2,
   "metadata": {},
   "outputs": [],
   "source": [
    "#list(data)"
   ]
  },
  {
   "cell_type": "markdown",
   "metadata": {},
   "source": [
    "###  2. Here, we use Google API key to add lat/long to each postal code "
   ]
  },
  {
   "cell_type": "code",
   "execution_count": 25,
   "metadata": {
    "collapsed": true
   },
   "outputs": [],
   "source": [
    "#https://developers.google.com/maps/documentation/javascript/get-api-key#standard-auth#\n",
    "%matplotlib inline\n",
    "#given a location via string, return lat lng.\n",
    "def gc(location):\n",
    "    \n",
    "    #query the google geocode api for lat lng\n",
    "    data = requests.get(\"https://maps.googleapis.com/maps/api/geocode/json?address=\" + location + \"&key=\" + \"key\").json()\n",
    "    \n",
    "    if len(data['results']) > 0:\n",
    "        \n",
    "        #if there's a result, return the first one.\n",
    "        return [data['results'][0]['geometry']['location']['lat'], data['results'][0]['geometry']['location']['lng']]\n",
    "    \n",
    "    else:\n",
    "        #if no result is found, return an empty list\n",
    "        return [0,0]"
   ]
  },
  {
   "cell_type": "code",
   "execution_count": 27,
   "metadata": {
    "collapsed": true
   },
   "outputs": [],
   "source": [
    "#Iterate over all values in Postal Code column to assign lat long \n",
    "def get_latlon(row):\n",
    "    #obtain the lat/long for a row in assigned column (postal code)\n",
    "    tup = gc(row.iloc[0])\n",
    "    return pd.Series(tup[:2])\n",
    "\n",
    "data[['Lat','Long']] = data[['Postal_Code']].apply(get_latlon , axis=1)\n",
    "data.to_csv('M:\\PH-RPM\\\\Elba\\\\Data\\\\Geocoded_MANIFOLD_BC_ALL.csv')"
   ]
  },
  {
   "cell_type": "markdown",
   "metadata": {},
   "source": [
    "###  3. Now, we want to assign a neighbourhood to each postal code. For that we use neighbourhood shapefiles for the City of Vancouver \n"
   ]
  },
  {
   "cell_type": "code",
   "execution_count": 70,
   "metadata": {},
   "outputs": [
    {
     "name": "stderr",
     "output_type": "stream",
     "text": [
      "C:\\Users\\egomez\\AppData\\Local\\Continuum\\anaconda3\\envs\\Env_1\\lib\\site-packages\\ipykernel_launcher.py:20: DeprecationWarning: \n",
      ".ix is deprecated. Please use\n",
      ".loc for label based indexing or\n",
      ".iloc for positional indexing\n",
      "\n",
      "See the documentation here:\n",
      "http://pandas.pydata.org/pandas-docs/stable/indexing.html#ix-indexer-is-deprecated\n"
     ]
    }
   ],
   "source": [
    "#PLACE POSTAL CODES WITHIN NEIGHBOURHOOD (so that we can link the geojson file)\n",
    "#First, we want to convert our shapefile to a geojson file \n",
    "#https://gis.stackexchange.com/questions/190903/assign-a-point-to-polygon-using-pandas-and-shapely\n",
    "import geopandas\n",
    "import geopandas.tools\n",
    "import utm\n",
    "from shapely.geometry import Point\n",
    "from json import dumps\n",
    "\n",
    "#Import data (already clean)\n",
    "data= pd.read_csv('M:\\PH-RPM\\\\Elba\\\\Data\\\\Geocoded_MANIFOLD_ALL.csv')\n",
    "\n",
    "#Function to pass lat long to UTM projection\n",
    "def getUTMs(row):\n",
    "    tup = utm.from_latlon(row.iloc[0],row.ix[1])\n",
    "    return pd.Series(tup[:2])\n",
    "\n",
    "data[['utm_lat','utm_long']] = data[['Lat','Long']].apply(getUTMs , axis=1)\n",
    "\n",
    "#Create the geometry column for the coordinates\n",
    "data[\"geometry\"] = data.apply(lambda row: Point(row['utm_lat'], row['utm_long']), axis=1)\n",
    "\n",
    "#Convert to a GeoDataFrame\n",
    "data = geopandas.GeoDataFrame(data, geometry=\"geometry\")\n",
    "data.crs = {'init': 'epsg:26910'}\n",
    "\n",
    "# Declare the coordinate system for the places GeoDataFrame\n",
    "# GeoPandas doesn't do any transformations automatically when performing\n",
    "# the spatial join. The layers are already in the same CRS (WGS84) so no\n",
    "# transformation is needed.\n",
    "#http://spatialreference.org/ref/epsg/nad83-bc-albers/\n",
    "#https://stackoverflow.com/questions/42751748/using-python-to-project-lat-lon-geometry-to-utm \n",
    "#https://pypi.org/project/utm/\n",
    "#https://stackoverflow.com/questions/30014684/pandas-apply-utm-function-to-dataframe-columns\n",
    "\n",
    "# Load the countries polygons\n",
    "neighbourhoods = geopandas.GeoDataFrame.from_file(\"C:\\\\Users\\\\egomez\\\\Desktop\\\\local_area_boundary.shp\")\n",
    "neighbourhoods = geopandas.GeoDataFrame.from_file(\"C:\\\\Users\\\\egomez\\\\Desktop\\\\local_area_boundary.geojson\")\n",
    "neighbourhoods.crs = {'init': 'epsg:26910'}\n",
    "#neighbourhoods.head()\n",
    "# Drop all columns except the name and polygon geometry\n",
    "neighbourhoods = neighbourhoods[[\"MAPID\", \"geometry\"]]\n",
    "\n",
    "# Perform the spatial join\n",
    "result = geopandas.tools.sjoin(data, neighbourhoods, how=\"right\")\n",
    "\n",
    "# Print the results..\n",
    "#data = result_final.drop(['Rank_x', 'Score_x', 'Population Total_x', 'Accum Population_x', \\\n",
    "#'Population 15+ Total_x'], axis=1)"
   ]
  },
  {
   "cell_type": "code",
   "execution_count": 72,
   "metadata": {
    "collapsed": true
   },
   "outputs": [],
   "source": [
    "#Note that this only has around 13,000 observations (only the postal codes that fall within our neighbourhoods)\n",
    "result.to_csv('M:\\PH-RPM\\\\Elba\\\\Data\\\\MANIFOLD_GEOCODED.csv')"
   ]
  },
  {
   "cell_type": "code",
   "execution_count": null,
   "metadata": {
    "collapsed": true
   },
   "outputs": [],
   "source": []
  }
 ],
 "metadata": {
  "kernelspec": {
   "display_name": "Python 2",
   "language": "python",
   "name": "python2"
  },
  "language_info": {
   "codemirror_mode": {
    "name": "ipython",
    "version": 2
   },
   "file_extension": ".py",
   "mimetype": "text/x-python",
   "name": "python",
   "nbconvert_exporter": "python",
   "pygments_lexer": "ipython2",
   "version": "2.7.12"
  }
 },
 "nbformat": 4,
 "nbformat_minor": 2
}
